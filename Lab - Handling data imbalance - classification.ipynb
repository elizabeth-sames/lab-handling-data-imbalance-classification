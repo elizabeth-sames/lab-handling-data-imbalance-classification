{
 "cells": [
  {
   "cell_type": "markdown",
   "id": "e4d7e78d",
   "metadata": {},
   "source": [
    "Scenario\n",
    "\n",
    "You are working as an analyst with this internet service provider. You are provided with this historical data about your company's customers and their churn trends. Your task is to build a machine learning model that will help the company identify customers that are more likely to default/churn and thus prevent losses from such customers."
   ]
  },
  {
   "cell_type": "markdown",
   "id": "6f2fb2f3",
   "metadata": {},
   "source": [
    "Instructions\n",
    "\n",
    "In this lab, we will first take a look at the degree of imbalance in the data and correct it using the techniques we learned on the class."
   ]
  },
  {
   "cell_type": "markdown",
   "id": "4463a39c",
   "metadata": {},
   "source": [
    "1. Import the required libraries and modules that you would need."
   ]
  },
  {
   "cell_type": "code",
   "execution_count": 1,
   "id": "ec2bb3cf",
   "metadata": {},
   "outputs": [],
   "source": [
    "import pandas as pd\n",
    "import numpy as np\n",
    "import statsmodels.api as sm"
   ]
  },
  {
   "cell_type": "markdown",
   "id": "cb11170e",
   "metadata": {},
   "source": [
    "2. Read that data into Python and call the dataframe churnData."
   ]
  },
  {
   "cell_type": "code",
   "execution_count": 46,
   "id": "6aac99de",
   "metadata": {},
   "outputs": [],
   "source": [
    "churnData = pd.read_csv('files_for_lab/Customer-Churn.csv')"
   ]
  },
  {
   "cell_type": "code",
   "execution_count": 3,
   "id": "ebda9f1c",
   "metadata": {},
   "outputs": [
    {
     "data": {
      "text/html": [
       "<div>\n",
       "<style scoped>\n",
       "    .dataframe tbody tr th:only-of-type {\n",
       "        vertical-align: middle;\n",
       "    }\n",
       "\n",
       "    .dataframe tbody tr th {\n",
       "        vertical-align: top;\n",
       "    }\n",
       "\n",
       "    .dataframe thead th {\n",
       "        text-align: right;\n",
       "    }\n",
       "</style>\n",
       "<table border=\"1\" class=\"dataframe\">\n",
       "  <thead>\n",
       "    <tr style=\"text-align: right;\">\n",
       "      <th></th>\n",
       "      <th>gender</th>\n",
       "      <th>SeniorCitizen</th>\n",
       "      <th>Partner</th>\n",
       "      <th>Dependents</th>\n",
       "      <th>tenure</th>\n",
       "      <th>PhoneService</th>\n",
       "      <th>OnlineSecurity</th>\n",
       "      <th>OnlineBackup</th>\n",
       "      <th>DeviceProtection</th>\n",
       "      <th>TechSupport</th>\n",
       "      <th>StreamingTV</th>\n",
       "      <th>StreamingMovies</th>\n",
       "      <th>Contract</th>\n",
       "      <th>MonthlyCharges</th>\n",
       "      <th>TotalCharges</th>\n",
       "      <th>Churn</th>\n",
       "    </tr>\n",
       "  </thead>\n",
       "  <tbody>\n",
       "    <tr>\n",
       "      <th>0</th>\n",
       "      <td>Female</td>\n",
       "      <td>0</td>\n",
       "      <td>Yes</td>\n",
       "      <td>No</td>\n",
       "      <td>1</td>\n",
       "      <td>No</td>\n",
       "      <td>No</td>\n",
       "      <td>Yes</td>\n",
       "      <td>No</td>\n",
       "      <td>No</td>\n",
       "      <td>No</td>\n",
       "      <td>No</td>\n",
       "      <td>Month-to-month</td>\n",
       "      <td>29.85</td>\n",
       "      <td>29.85</td>\n",
       "      <td>No</td>\n",
       "    </tr>\n",
       "    <tr>\n",
       "      <th>1</th>\n",
       "      <td>Male</td>\n",
       "      <td>0</td>\n",
       "      <td>No</td>\n",
       "      <td>No</td>\n",
       "      <td>34</td>\n",
       "      <td>Yes</td>\n",
       "      <td>Yes</td>\n",
       "      <td>No</td>\n",
       "      <td>Yes</td>\n",
       "      <td>No</td>\n",
       "      <td>No</td>\n",
       "      <td>No</td>\n",
       "      <td>One year</td>\n",
       "      <td>56.95</td>\n",
       "      <td>1889.5</td>\n",
       "      <td>No</td>\n",
       "    </tr>\n",
       "    <tr>\n",
       "      <th>2</th>\n",
       "      <td>Male</td>\n",
       "      <td>0</td>\n",
       "      <td>No</td>\n",
       "      <td>No</td>\n",
       "      <td>2</td>\n",
       "      <td>Yes</td>\n",
       "      <td>Yes</td>\n",
       "      <td>Yes</td>\n",
       "      <td>No</td>\n",
       "      <td>No</td>\n",
       "      <td>No</td>\n",
       "      <td>No</td>\n",
       "      <td>Month-to-month</td>\n",
       "      <td>53.85</td>\n",
       "      <td>108.15</td>\n",
       "      <td>Yes</td>\n",
       "    </tr>\n",
       "    <tr>\n",
       "      <th>3</th>\n",
       "      <td>Male</td>\n",
       "      <td>0</td>\n",
       "      <td>No</td>\n",
       "      <td>No</td>\n",
       "      <td>45</td>\n",
       "      <td>No</td>\n",
       "      <td>Yes</td>\n",
       "      <td>No</td>\n",
       "      <td>Yes</td>\n",
       "      <td>Yes</td>\n",
       "      <td>No</td>\n",
       "      <td>No</td>\n",
       "      <td>One year</td>\n",
       "      <td>42.30</td>\n",
       "      <td>1840.75</td>\n",
       "      <td>No</td>\n",
       "    </tr>\n",
       "    <tr>\n",
       "      <th>4</th>\n",
       "      <td>Female</td>\n",
       "      <td>0</td>\n",
       "      <td>No</td>\n",
       "      <td>No</td>\n",
       "      <td>2</td>\n",
       "      <td>Yes</td>\n",
       "      <td>No</td>\n",
       "      <td>No</td>\n",
       "      <td>No</td>\n",
       "      <td>No</td>\n",
       "      <td>No</td>\n",
       "      <td>No</td>\n",
       "      <td>Month-to-month</td>\n",
       "      <td>70.70</td>\n",
       "      <td>151.65</td>\n",
       "      <td>Yes</td>\n",
       "    </tr>\n",
       "  </tbody>\n",
       "</table>\n",
       "</div>"
      ],
      "text/plain": [
       "   gender  SeniorCitizen Partner Dependents  tenure PhoneService  \\\n",
       "0  Female              0     Yes         No       1           No   \n",
       "1    Male              0      No         No      34          Yes   \n",
       "2    Male              0      No         No       2          Yes   \n",
       "3    Male              0      No         No      45           No   \n",
       "4  Female              0      No         No       2          Yes   \n",
       "\n",
       "  OnlineSecurity OnlineBackup DeviceProtection TechSupport StreamingTV  \\\n",
       "0             No          Yes               No          No          No   \n",
       "1            Yes           No              Yes          No          No   \n",
       "2            Yes          Yes               No          No          No   \n",
       "3            Yes           No              Yes         Yes          No   \n",
       "4             No           No               No          No          No   \n",
       "\n",
       "  StreamingMovies        Contract  MonthlyCharges TotalCharges Churn  \n",
       "0              No  Month-to-month           29.85        29.85    No  \n",
       "1              No        One year           56.95       1889.5    No  \n",
       "2              No  Month-to-month           53.85       108.15   Yes  \n",
       "3              No        One year           42.30      1840.75    No  \n",
       "4              No  Month-to-month           70.70       151.65   Yes  "
      ]
     },
     "execution_count": 3,
     "metadata": {},
     "output_type": "execute_result"
    }
   ],
   "source": [
    "churnData.head()"
   ]
  },
  {
   "cell_type": "markdown",
   "id": "9905aed0",
   "metadata": {},
   "source": [
    "3. Check the datatypes of all the columns in the data. You would see that the column TotalCharges is object type. Convert this column into numeric type using pd.to_numeric function."
   ]
  },
  {
   "cell_type": "code",
   "execution_count": 4,
   "id": "85660765",
   "metadata": {},
   "outputs": [
    {
     "data": {
      "text/plain": [
       "gender               object\n",
       "SeniorCitizen         int64\n",
       "Partner              object\n",
       "Dependents           object\n",
       "tenure                int64\n",
       "PhoneService         object\n",
       "OnlineSecurity       object\n",
       "OnlineBackup         object\n",
       "DeviceProtection     object\n",
       "TechSupport          object\n",
       "StreamingTV          object\n",
       "StreamingMovies      object\n",
       "Contract             object\n",
       "MonthlyCharges      float64\n",
       "TotalCharges         object\n",
       "Churn                object\n",
       "dtype: object"
      ]
     },
     "execution_count": 4,
     "metadata": {},
     "output_type": "execute_result"
    }
   ],
   "source": [
    "churnData.dtypes"
   ]
  },
  {
   "cell_type": "code",
   "execution_count": 47,
   "id": "fdbb35d6",
   "metadata": {},
   "outputs": [],
   "source": [
    "churnData['TotalCharges'] = pd.to_numeric(churnData['TotalCharges'], errors='coerce')"
   ]
  },
  {
   "cell_type": "markdown",
   "id": "ddfeb10d",
   "metadata": {},
   "source": [
    "4. Check for null values in the dataframe. Replace the null values."
   ]
  },
  {
   "cell_type": "code",
   "execution_count": 6,
   "id": "8f05c018",
   "metadata": {},
   "outputs": [
    {
     "data": {
      "text/plain": [
       "gender               0\n",
       "SeniorCitizen        0\n",
       "Partner              0\n",
       "Dependents           0\n",
       "tenure               0\n",
       "PhoneService         0\n",
       "OnlineSecurity       0\n",
       "OnlineBackup         0\n",
       "DeviceProtection     0\n",
       "TechSupport          0\n",
       "StreamingTV          0\n",
       "StreamingMovies      0\n",
       "Contract             0\n",
       "MonthlyCharges       0\n",
       "TotalCharges        11\n",
       "Churn                0\n",
       "dtype: int64"
      ]
     },
     "execution_count": 6,
     "metadata": {},
     "output_type": "execute_result"
    }
   ],
   "source": [
    "churnData.isnull().sum()"
   ]
  },
  {
   "cell_type": "code",
   "execution_count": 48,
   "id": "c6692dcf",
   "metadata": {},
   "outputs": [
    {
     "data": {
      "text/plain": [
       "NaN        11\n",
       "20.20      11\n",
       "19.75       9\n",
       "20.05       8\n",
       "19.90       8\n",
       "           ..\n",
       "6849.40     1\n",
       "692.35      1\n",
       "130.15      1\n",
       "3211.90     1\n",
       "6844.50     1\n",
       "Name: TotalCharges, Length: 6531, dtype: int64"
      ]
     },
     "execution_count": 48,
     "metadata": {},
     "output_type": "execute_result"
    }
   ],
   "source": [
    "churnData.TotalCharges.value_counts(dropna=False)"
   ]
  },
  {
   "cell_type": "code",
   "execution_count": 49,
   "id": "fa818784",
   "metadata": {},
   "outputs": [
    {
     "data": {
      "text/plain": [
       "dtype('float64')"
      ]
     },
     "execution_count": 49,
     "metadata": {},
     "output_type": "execute_result"
    }
   ],
   "source": [
    "churnData.TotalCharges.dtype"
   ]
  },
  {
   "cell_type": "code",
   "execution_count": 50,
   "id": "6fcc8e2c",
   "metadata": {},
   "outputs": [],
   "source": [
    "churnData = churnData.fillna(np.mean(churnData['TotalCharges']))"
   ]
  },
  {
   "cell_type": "code",
   "execution_count": 51,
   "id": "1966b09e",
   "metadata": {},
   "outputs": [
    {
     "data": {
      "text/plain": [
       "gender              0\n",
       "SeniorCitizen       0\n",
       "Partner             0\n",
       "Dependents          0\n",
       "tenure              0\n",
       "PhoneService        0\n",
       "OnlineSecurity      0\n",
       "OnlineBackup        0\n",
       "DeviceProtection    0\n",
       "TechSupport         0\n",
       "StreamingTV         0\n",
       "StreamingMovies     0\n",
       "Contract            0\n",
       "MonthlyCharges      0\n",
       "TotalCharges        0\n",
       "Churn               0\n",
       "dtype: int64"
      ]
     },
     "execution_count": 51,
     "metadata": {},
     "output_type": "execute_result"
    }
   ],
   "source": [
    "churnData.isnull().sum()"
   ]
  },
  {
   "cell_type": "markdown",
   "id": "7511d207",
   "metadata": {},
   "source": [
    "5. Use the following features: tenure, SeniorCitizen, MonthlyCharges and TotalCharges:"
   ]
  },
  {
   "cell_type": "code",
   "execution_count": 52,
   "id": "38010d75",
   "metadata": {},
   "outputs": [],
   "source": [
    "X = churnData[['tenure', 'SeniorCitizen', 'MonthlyCharges', 'TotalCharges']].copy()"
   ]
  },
  {
   "cell_type": "code",
   "execution_count": 12,
   "id": "193bb8d5",
   "metadata": {},
   "outputs": [
    {
     "data": {
      "text/html": [
       "<div>\n",
       "<style scoped>\n",
       "    .dataframe tbody tr th:only-of-type {\n",
       "        vertical-align: middle;\n",
       "    }\n",
       "\n",
       "    .dataframe tbody tr th {\n",
       "        vertical-align: top;\n",
       "    }\n",
       "\n",
       "    .dataframe thead th {\n",
       "        text-align: right;\n",
       "    }\n",
       "</style>\n",
       "<table border=\"1\" class=\"dataframe\">\n",
       "  <thead>\n",
       "    <tr style=\"text-align: right;\">\n",
       "      <th></th>\n",
       "      <th>tenure</th>\n",
       "      <th>SeniorCitizen</th>\n",
       "      <th>MonthlyCharges</th>\n",
       "      <th>TotalCharges</th>\n",
       "    </tr>\n",
       "  </thead>\n",
       "  <tbody>\n",
       "    <tr>\n",
       "      <th>0</th>\n",
       "      <td>1</td>\n",
       "      <td>0</td>\n",
       "      <td>29.85</td>\n",
       "      <td>29.85</td>\n",
       "    </tr>\n",
       "    <tr>\n",
       "      <th>1</th>\n",
       "      <td>34</td>\n",
       "      <td>0</td>\n",
       "      <td>56.95</td>\n",
       "      <td>1889.50</td>\n",
       "    </tr>\n",
       "    <tr>\n",
       "      <th>2</th>\n",
       "      <td>2</td>\n",
       "      <td>0</td>\n",
       "      <td>53.85</td>\n",
       "      <td>108.15</td>\n",
       "    </tr>\n",
       "    <tr>\n",
       "      <th>3</th>\n",
       "      <td>45</td>\n",
       "      <td>0</td>\n",
       "      <td>42.30</td>\n",
       "      <td>1840.75</td>\n",
       "    </tr>\n",
       "    <tr>\n",
       "      <th>4</th>\n",
       "      <td>2</td>\n",
       "      <td>0</td>\n",
       "      <td>70.70</td>\n",
       "      <td>151.65</td>\n",
       "    </tr>\n",
       "  </tbody>\n",
       "</table>\n",
       "</div>"
      ],
      "text/plain": [
       "   tenure  SeniorCitizen  MonthlyCharges  TotalCharges\n",
       "0       1              0           29.85         29.85\n",
       "1      34              0           56.95       1889.50\n",
       "2       2              0           53.85        108.15\n",
       "3      45              0           42.30       1840.75\n",
       "4       2              0           70.70        151.65"
      ]
     },
     "execution_count": 12,
     "metadata": {},
     "output_type": "execute_result"
    }
   ],
   "source": [
    "X.head()"
   ]
  },
  {
   "cell_type": "markdown",
   "id": "e1ae4cb9",
   "metadata": {},
   "source": [
    "a. Scale the features either by using normalizer or a standard scaler."
   ]
  },
  {
   "cell_type": "code",
   "execution_count": 53,
   "id": "af67c732",
   "metadata": {},
   "outputs": [],
   "source": [
    "from sklearn.preprocessing import StandardScaler\n",
    "ss = StandardScaler().fit(X)\n",
    "X_scaled = ss.transform(X)"
   ]
  },
  {
   "cell_type": "markdown",
   "id": "a603246f",
   "metadata": {},
   "source": [
    "b. Split the data into a training set and a test set."
   ]
  },
  {
   "cell_type": "code",
   "execution_count": 54,
   "id": "deddccd0",
   "metadata": {},
   "outputs": [],
   "source": [
    "from sklearn.model_selection import train_test_split\n",
    "X_train, X_test, y_train, y_test = train_test_split(X_scaled, churnData['Churn'], random_state=0)"
   ]
  },
  {
   "cell_type": "markdown",
   "id": "95deaf12",
   "metadata": {},
   "source": [
    "c. Fit a logistic regression model on the training data."
   ]
  },
  {
   "cell_type": "code",
   "execution_count": 55,
   "id": "93be4894",
   "metadata": {},
   "outputs": [
    {
     "data": {
      "text/plain": [
       "0.7913669064748201"
      ]
     },
     "execution_count": 55,
     "metadata": {},
     "output_type": "execute_result"
    }
   ],
   "source": [
    "from sklearn.linear_model import LogisticRegression\n",
    "clf = LogisticRegression().fit(X_train, y_train)\n",
    "clf.score(X_train, y_train)"
   ]
  },
  {
   "cell_type": "markdown",
   "id": "8046f918",
   "metadata": {},
   "source": [
    "d. Check the accuracy on the test data."
   ]
  },
  {
   "cell_type": "code",
   "execution_count": 56,
   "id": "bd8a1d64",
   "metadata": {},
   "outputs": [
    {
     "data": {
      "text/plain": [
       "0.7830777967064169"
      ]
     },
     "execution_count": 56,
     "metadata": {},
     "output_type": "execute_result"
    }
   ],
   "source": [
    "clf.score(X_test, y_test)"
   ]
  },
  {
   "cell_type": "code",
   "execution_count": 72,
   "id": "7edbe3d0",
   "metadata": {},
   "outputs": [
    {
     "name": "stdout",
     "output_type": "stream",
     "text": [
      "              precision    recall  f1-score   support\n",
      "\n",
      "          No       0.82      0.90      0.86      1298\n",
      "         Yes       0.62      0.46      0.53       463\n",
      "\n",
      "    accuracy                           0.78      1761\n",
      "   macro avg       0.72      0.68      0.69      1761\n",
      "weighted avg       0.77      0.78      0.77      1761\n",
      "\n"
     ]
    },
    {
     "data": {
      "text/plain": [
       "<sklearn.metrics._plot.confusion_matrix.ConfusionMatrixDisplay at 0x11c995be0>"
      ]
     },
     "execution_count": 72,
     "metadata": {},
     "output_type": "execute_result"
    },
    {
     "data": {
      "image/png": "[encoded data removed]",
      "text/plain": [
       "<Figure size 432x288 with 2 Axes>"
      ]
     },
     "metadata": {
      "needs_background": "light"
     },
     "output_type": "display_data"
    }
   ],
   "source": [
    "from sklearn.metrics import classification_report\n",
    "pred = clf.predict(X_test)\n",
    "log_model_unbalanced = classification_report(y_test, pred)\n",
    "print(log_model_unbalanced)\n",
    "from sklearn.metrics import plot_confusion_matrix\n",
    "plot_confusion_matrix(clf, X_test, y_test)\n"
   ]
  },
  {
   "cell_type": "markdown",
   "id": "93a4a485",
   "metadata": {},
   "source": [
    "## Managing imbalance in the dataset"
   ]
  },
  {
   "cell_type": "markdown",
   "id": "dc40dd75",
   "metadata": {},
   "source": [
    "6. Check for the imbalance."
   ]
  },
  {
   "cell_type": "code",
   "execution_count": 58,
   "id": "e967281b",
   "metadata": {},
   "outputs": [
    {
     "data": {
      "text/plain": [
       "No     5174\n",
       "Yes    1869\n",
       "Name: Churn, dtype: int64"
      ]
     },
     "execution_count": 58,
     "metadata": {},
     "output_type": "execute_result"
    }
   ],
   "source": [
    "y = churnData['Churn']\n",
    "y.value_counts()"
   ]
  },
  {
   "cell_type": "markdown",
   "id": "9bd7edcd",
   "metadata": {},
   "source": [
    "7. Use the resampling strategies used in class for upsampling and downsampling to create a balance between the two classes."
   ]
  },
  {
   "cell_type": "code",
   "execution_count": 59,
   "id": "c4da3eca",
   "metadata": {},
   "outputs": [],
   "source": [
    "X_scaled = pd.DataFrame(X_scaled)\n",
    "data = pd.concat([X_scaled,y], axis=1)"
   ]
  },
  {
   "cell_type": "code",
   "execution_count": 60,
   "id": "86ccf8e9",
   "metadata": {},
   "outputs": [],
   "source": [
    "majority_class = data[data['Churn'] == 'No'] \n",
    "minority_class = data[data['Churn'] == 'Yes']\n",
    "from sklearn.utils import resample"
   ]
  },
  {
   "cell_type": "code",
   "execution_count": 61,
   "id": "2800be7b",
   "metadata": {},
   "outputs": [],
   "source": [
    "#Upsampling\n",
    "minority_class_oversampled = resample(minority_class, \n",
    "                                  replace=True, \n",
    "                                  n_samples = len(majority_class))\n",
    "\n",
    "churnData_upsampled = pd.concat([majority_class, minority_class_oversampled], axis=0)"
   ]
  },
  {
   "cell_type": "code",
   "execution_count": 62,
   "id": "6f7e2f37",
   "metadata": {},
   "outputs": [],
   "source": [
    "#Downsampling\n",
    "majority_class_undersampled = resample(majority_class, \n",
    "                                  replace=True, \n",
    "                                  n_samples = len(minority_class))\n",
    "\n",
    "churnData_downsampled = pd.concat([minority_class, majority_class_undersampled], axis=0)"
   ]
  },
  {
   "cell_type": "markdown",
   "id": "d5af3c04",
   "metadata": {},
   "source": [
    "8. Each time fit the model and see how the accuracy of the model is."
   ]
  },
  {
   "cell_type": "code",
   "execution_count": 63,
   "id": "5dcbd377",
   "metadata": {},
   "outputs": [
    {
     "name": "stdout",
     "output_type": "stream",
     "text": [
      "train data accuracy:  0.7392088648370055\n",
      "test data accuracy:  0.7352145342095091\n",
      "              precision    recall  f1-score   support\n",
      "\n",
      "          No       0.88      0.72      0.79      1298\n",
      "         Yes       0.48      0.72      0.57       463\n",
      "\n",
      "    accuracy                           0.72      1761\n",
      "   macro avg       0.68      0.72      0.68      1761\n",
      "weighted avg       0.77      0.72      0.73      1761\n",
      "\n"
     ]
    },
    {
     "data": {
      "text/plain": [
       "<sklearn.metrics._plot.confusion_matrix.ConfusionMatrixDisplay at 0x11c718370>"
      ]
     },
     "execution_count": 63,
     "metadata": {},
     "output_type": "execute_result"
    },
    {
     "data": {
      "image/png": "[encoded data removed]",
      "text/plain": [
       "<Figure size 432x288 with 2 Axes>"
      ]
     },
     "metadata": {
      "needs_background": "light"
     },
     "output_type": "display_data"
    }
   ],
   "source": [
    "# upsampled model\n",
    "y = churnData_upsampled['Churn']\n",
    "X = churnData_upsampled.drop(['Churn'], axis=1)\n",
    "\n",
    "X_train_u, X_test_u, y_train_u, y_test_u= train_test_split(X, y, random_state=0)\n",
    "\n",
    "clf_u = LogisticRegression().fit(X_train_u, y_train_u)\n",
    "print('train data accuracy: ', clf_u.score(X_train_u, y_train_u))\n",
    "print('test data accuracy: ', clf_u.score(X_test_u, y_test_u))\n",
    "\n",
    "pred = clf_u.predict(X_test)\n",
    "log_model_upsampled = classification_report(y_test, pred)\n",
    "print(log_model_upsampled)\n",
    "\n",
    "from sklearn.metrics import plot_confusion_matrix\n",
    "plot_confusion_matrix(clf_u, X_test, y_test)"
   ]
  },
  {
   "cell_type": "code",
   "execution_count": 64,
   "id": "80467914",
   "metadata": {},
   "outputs": [
    {
     "name": "stdout",
     "output_type": "stream",
     "text": [
      "train data accuracy:  0.7377809489832322\n",
      "test data accuracy:  0.7005347593582888\n",
      "              precision    recall  f1-score   support\n",
      "\n",
      "          No       0.87      0.71      0.79      1298\n",
      "         Yes       0.47      0.71      0.57       463\n",
      "\n",
      "    accuracy                           0.71      1761\n",
      "   macro avg       0.67      0.71      0.68      1761\n",
      "weighted avg       0.77      0.71      0.73      1761\n",
      "\n"
     ]
    },
    {
     "data": {
      "text/plain": [
       "<sklearn.metrics._plot.confusion_matrix.ConfusionMatrixDisplay at 0x11c53a880>"
      ]
     },
     "execution_count": 64,
     "metadata": {},
     "output_type": "execute_result"
    },
    {
     "data": {
      "image/png": "[encoded data removed]",
      "text/plain": [
       "<Figure size 432x288 with 2 Axes>"
      ]
     },
     "metadata": {
      "needs_background": "light"
     },
     "output_type": "display_data"
    }
   ],
   "source": [
    "# downsampled model\n",
    "y = churnData_downsampled['Churn']\n",
    "X = churnData_downsampled.drop(['Churn'], axis=1)\n",
    "\n",
    "X_train_d, X_test_d, y_train_d, y_test_d = train_test_split(X, y, random_state=0)\n",
    "\n",
    "clf_d = LogisticRegression().fit(X_train_d, y_train_d)\n",
    "print('train data accuracy: ', clf_d.score(X_train_d, y_train_d))\n",
    "print('test data accuracy: ', clf_d.score(X_test_d, y_test_d))\n",
    "\n",
    "pred = clf_d.predict(X_test)\n",
    "log_model_downsampled = classification_report(y_test, pred)\n",
    "print(log_model_downsampled)\n",
    "\n",
    "from sklearn.metrics import plot_confusion_matrix\n",
    "plot_confusion_matrix(clf_d, X_test, y_test)"
   ]
  },
  {
   "cell_type": "code",
   "execution_count": 65,
   "id": "1b123e7d",
   "metadata": {},
   "outputs": [
    {
     "name": "stdout",
     "output_type": "stream",
     "text": [
      "unbalanced:                precision    recall  f1-score   support\n",
      "\n",
      "          No       0.82      0.90      0.86      1298\n",
      "         Yes       0.62      0.46      0.53       463\n",
      "\n",
      "    accuracy                           0.78      1761\n",
      "   macro avg       0.72      0.68      0.69      1761\n",
      "weighted avg       0.77      0.78      0.77      1761\n",
      "\n",
      "upsampled:                precision    recall  f1-score   support\n",
      "\n",
      "          No       0.88      0.72      0.79      1298\n",
      "         Yes       0.48      0.72      0.57       463\n",
      "\n",
      "    accuracy                           0.72      1761\n",
      "   macro avg       0.68      0.72      0.68      1761\n",
      "weighted avg       0.77      0.72      0.73      1761\n",
      "\n",
      "downsampled:                precision    recall  f1-score   support\n",
      "\n",
      "          No       0.87      0.71      0.79      1298\n",
      "         Yes       0.47      0.71      0.57       463\n",
      "\n",
      "    accuracy                           0.71      1761\n",
      "   macro avg       0.67      0.71      0.68      1761\n",
      "weighted avg       0.77      0.71      0.73      1761\n",
      "\n"
     ]
    }
   ],
   "source": [
    "print(\"unbalanced: \",log_model_unbalanced)\n",
    "print('upsampled: ',log_model_upsampled)\n",
    "print('downsampled: ',log_model_downsampled)"
   ]
  },
  {
   "cell_type": "markdown",
   "id": "4822e30a",
   "metadata": {},
   "source": [
    "The model on the imbalanced data underpredicts the churn customers, it has a really low precision score. This is not ideal for this situation because if the model is missing the churn customers the company will not reach out to those customers and will lose their business.\n",
    "\n",
    "The models from the upsampled data and downsampled produce very similar results to eachother. They both have an increased precision score compared to the first model, and the recall score is very similar.\n",
    "\n",
    "In this case a model built from either an upsampled or downsampled dataset produced better prediction than the imbalanced dataset. "
   ]
  }
 ],
 "metadata": {
  "kernelspec": {
   "display_name": "Python 3 (ipykernel)",
   "language": "python",
   "name": "python3"
  },
  "language_info": {
   "codemirror_mode": {
    "name": "ipython",
    "version": 3
   },
   "file_extension": ".py",
   "mimetype": "text/x-python",
   "name": "python",
   "nbconvert_exporter": "python",
   "pygments_lexer": "ipython3",
   "version": "3.9.6"
  }
 },
 "nbformat": 4,
 "nbformat_minor": 5
}
